{
 "cells": [
  {
   "cell_type": "code",
   "execution_count": 1,
   "metadata": {},
   "outputs": [],
   "source": [
    "import pandas as pd"
   ]
  },
  {
   "cell_type": "code",
   "execution_count": 40,
   "metadata": {},
   "outputs": [
    {
     "name": "stdout",
     "output_type": "stream",
     "text": [
      "Empty DataFrame\n",
      "Columns: []\n",
      "Index: [ИКБО-01-20, Предмет, nan, nan, nan, nan, История (история России, всеобщая история), nan, Процедурное программирование, nan, nan, nan, nan, nan, Информатика, Информатика, Математический анализ, Математический анализ, Физика , Физика , Физическая культура и спорт, Физическая культура и спорт, Линейная алгебра и аналитическая геометрия, Линейная алгебра и аналитическая геометрия, nan, nan, nan, Иностранный язык (1 п/г)\n",
      "Иностранный язык (2 п/г), nan, Иностранный язык (1 п/г)\n",
      "Иностранный язык (2 п/г), nan, 2,4 н. Введение в профессиональную деятельность\n",
      "6,8 н. Введение в профессиональную деятельность\n",
      "10,12 н. Введение в профессиональную деятельность\n",
      "14,16 н. Введение в профессиональную деятельность, nan, nan, nan, nan, nan, nan, nan, nan, nan, nan, nan, nan, nan, nan, nan, nan, nan, nan, 3,7,11,15 н. История (история России, всеобщая история), Физика , 3,7,11,15 н. История (история России, всеобщая история), Физика , Информатика, 4,8,12,16 н. Физика (1 п/г)\n",
      "4,8,12,16 н. Физика (2 п/г), Информатика, 4,8,12,16 н. Физика (1 п/г)\n",
      "4,8,12,16 н. Физика (2 п/г), nan, nan, nan, nan, Процедурное программирование, Процедурное программирование, Процедурное программирование, Процедурное программирование, Линейная алгебра и аналитическая геометрия, Математический анализ, Линейная алгебра и аналитическая геометрия, Математический анализ, nan, nan, nan, nan, nan, nan, nan, nan, nan, nan, nan, nan, nan, nan, nan, nan, nan, nan, nan, nan]\n",
      "\n",
      "[90 rows x 0 columns]\n"
     ]
    }
   ],
   "source": [
    "file = \"sched.xlsx\"\n",
    "df = pd.read_excel(file,index_col=0, na_values=['NaN'], usecols = \"NV\")\n",
    "print(df)"
   ]
  }
 ],
 "metadata": {
  "kernelspec": {
   "display_name": "Python 3",
   "language": "python",
   "name": "python3"
  },
  "language_info": {
   "codemirror_mode": {
    "name": "ipython",
    "version": 3
   },
   "file_extension": ".py",
   "mimetype": "text/x-python",
   "name": "python",
   "nbconvert_exporter": "python",
   "pygments_lexer": "ipython3",
   "version": "3.8.3"
  }
 },
 "nbformat": 4,
 "nbformat_minor": 4
}
