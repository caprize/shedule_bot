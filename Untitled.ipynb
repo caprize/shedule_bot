{
 "cells": [
  {
   "cell_type": "code",
   "execution_count": 53,
   "metadata": {},
   "outputs": [
    {
     "name": "stdout",
     "output_type": "stream",
     "text": [
      "   Unnamed: 385  Unnamed: 386\n",
      "0    ИКБО-01-20          ИППО\n",
      "1       Предмет  Вид\\nзанятий\n",
      "2           NaN           NaN\n",
      "3           NaN           NaN\n",
      "4           NaN           NaN\n",
      "..          ...           ...\n",
      "85          NaN           NaN\n",
      "86          NaN           NaN\n",
      "87          NaN           NaN\n",
      "88          NaN           NaN\n",
      "89          NaN           NaN\n",
      "\n",
      "[90 rows x 2 columns]\n"
     ]
    }
   ],
   "source": [
    "import pandas as pd\n",
    "file = \"sched.xlsx\"\n",
    "df = pd.read_excel(file, usecols = \"NV,NW\")\n",
    "print(df)"
   ]
  }
 ],
 "metadata": {
  "kernelspec": {
   "display_name": "Python 3",
   "language": "python",
   "name": "python3"
  },
  "language_info": {
   "codemirror_mode": {
    "name": "ipython",
    "version": 3
   },
   "file_extension": ".py",
   "mimetype": "text/x-python",
   "name": "python",
   "nbconvert_exporter": "python",
   "pygments_lexer": "ipython3",
   "version": "3.8.3"
  }
 },
 "nbformat": 4,
 "nbformat_minor": 4
}
